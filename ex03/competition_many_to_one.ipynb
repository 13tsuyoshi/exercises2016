{
 "cells": [
  {
   "cell_type": "code",
   "execution_count": 1,
   "metadata": {
    "collapsed": true
   },
   "outputs": [],
   "source": [
    "using Matching"
   ]
  },
  {
   "cell_type": "code",
   "execution_count": 2,
   "metadata": {
    "collapsed": false,
    "scrolled": false
   },
   "outputs": [],
   "source": [
    "urls = [\n",
    "    \"https://raw.githubusercontent.com/EikiTakigawa/Deferred-Acceptance/a74feec27a0720a4821cfd3827701201d73072b9/DA_Many_to_1.jl\",\n",
    "    \"https://raw.githubusercontent.com/IoriS/Ex03/b2623c18aa4c24571cb2028339283450721c8ff2/deferred_acceptance.jl\",\n",
    "    \"https://raw.githubusercontent.com/keiikegami/DA_Julia/435e4fb243faf371dc9d3db2c4006e4b0ff64730/ikegamida_mm.jl\",\n",
    "    \"https://raw.githubusercontent.com/M-okb/DA-Matching/793c2eceb3a4b9b88c074a98da715a344bb9cf13/many_to_one.jl\",\n",
    "    \"https://raw.githubusercontent.com/myuuuuun/oyama_seminar2016/31cc89df572213ac1d7dc4da320b8d2697932fb1/exercise/ex03/matching.jl\",\n",
    "    \"https://raw.githubusercontent.com/NlGG/Economics/c9ac87dc1ce2acdbf08a30be89986e2124685e86/deferred_acceptance.jl\",\n",
    "    \"https://raw.githubusercontent.com/nswa17/DA_alg.jl/522791c03866a812a610de68618ff105b33bd55c/da.jl\",\n",
    "    \"https://raw.githubusercontent.com/oyataku1/Matching/4298b98e530e326aba05fbae6c9fdba39a058a8a/deferred_acceptance.jl\",\n",
    "    \"https://raw.githubusercontent.com/SUZUKITAISHI/matching/701096f5bc327a4f619e4f9985cc4674afb6869c/my_Gale_Shap.jl\",\n",
    "    \"https://raw.githubusercontent.com/13tsuyoshi/matching/79049ddc672d9795bec6bceab8209cf40a974d30/Many_to_one.jl\",\n",
    "]\n",
    "function_names = [\n",
    "    \"deferred_acceptance\",\n",
    "    \"deferred_acceptance\",\n",
    "    \"ikegamida_mm\",\n",
    "    \"okb_DA_algo\",\n",
    "    \"Matching.gale_shapley_T\",\n",
    "    \"deferred_acceptance\",\n",
    "    \"DA.call_match\",\n",
    "    \"deferred_acceptance\",\n",
    "    \"my_Gale_Shap\",\n",
    "    \"deferred_acceptance\",\n",
    "];"
   ]
  },
  {
   "cell_type": "code",
   "execution_count": 3,
   "metadata": {
    "collapsed": false
   },
   "outputs": [],
   "source": [
    "file_names = [split(url, \"/\")[end] for url in urls]\n",
    "dir_names = [split(url, \"/\")[4] for url in urls]\n",
    "paths = [join((dir_name, file_name), \"/\")\n",
    "    for (dir_name, file_name) in zip(dir_names, file_names)];"
   ]
  },
  {
   "cell_type": "code",
   "execution_count": 4,
   "metadata": {
    "collapsed": false
   },
   "outputs": [],
   "source": [
    "module_names = [\n",
    "    replace(\n",
    "        replace(dir_name, \"-\", \"_\"),\n",
    "        r\"^[1-9]+\", \"\"\n",
    "    )\n",
    "    for dir_name in dir_names\n",
    "];"
   ]
  },
  {
   "cell_type": "code",
   "execution_count": 5,
   "metadata": {
    "collapsed": false
   },
   "outputs": [
    {
     "data": {
      "text/plain": [
       "download_files (generic function with 2 methods)"
      ]
     },
     "execution_count": 5,
     "metadata": {},
     "output_type": "execute_result"
    }
   ],
   "source": [
    "function download_files(overwrite::Bool=false)\n",
    "    for (url, dir_name, path) in zip(urls, dir_names, paths)\n",
    "        if !isdir(dir_name)\n",
    "            mkdir(dir_name)\n",
    "        end\n",
    "        \n",
    "        if !isfile(path) || overwrite\n",
    "            download(url, path)\n",
    "        end\n",
    "    end\n",
    "end"
   ]
  },
  {
   "cell_type": "code",
   "execution_count": 6,
   "metadata": {
    "collapsed": false
   },
   "outputs": [],
   "source": [
    "download_files()"
   ]
  },
  {
   "cell_type": "code",
   "execution_count": 7,
   "metadata": {
    "collapsed": false
   },
   "outputs": [
    {
     "data": {
      "text/plain": [
       "load_module (generic function with 1 method)"
      ]
     },
     "execution_count": 7,
     "metadata": {},
     "output_type": "execute_result"
    }
   ],
   "source": [
    "function load_module(module_name, path)\n",
    "    module_name = parse(module_name)\n",
    "    eval(Expr(:toplevel, :(\n",
    "        module ($module_name)\n",
    "        include($path)\n",
    "        end\n",
    "    ), module_name, path))\n",
    "end"
   ]
  },
  {
   "cell_type": "code",
   "execution_count": 8,
   "metadata": {
    "collapsed": false,
    "scrolled": false
   },
   "outputs": [
    {
     "name": "stderr",
     "output_type": "stream",
     "text": [
      "\n",
      "WARNING: deprecated syntax \"resp_matched [\" at /Users/oyama/tmp/DA160704/EikiTakigawa/DA_Many_to_1.jl:32.\n",
      "Use \"resp_matched[\" instead.\n",
      "\n",
      "WARNING: deprecated syntax \"resp_matched [\" at /Users/oyama/tmp/DA160704/EikiTakigawa/DA_Many_to_1.jl:48.\n",
      "Use \"resp_matched[\" instead.\n"
     ]
    }
   ],
   "source": [
    "for (module_name, path) in zip(module_names, paths)\n",
    "    load_module(module_name, path)\n",
    "end"
   ]
  },
  {
   "cell_type": "code",
   "execution_count": 9,
   "metadata": {
    "collapsed": false
   },
   "outputs": [
    {
     "data": {
      "text/plain": [
       "oyamad"
      ]
     },
     "execution_count": 9,
     "metadata": {},
     "output_type": "execute_result"
    }
   ],
   "source": [
    "module oyamad\n",
    "deferred_acceptance = Main.Matching.deferred_acceptance\n",
    "end"
   ]
  },
  {
   "cell_type": "code",
   "execution_count": 10,
   "metadata": {
    "collapsed": false
   },
   "outputs": [],
   "source": [
    "functions = Dict{ASCIIString, Function}()\n",
    "\n",
    "for (module_name, function_name) in zip(module_names, function_names)\n",
    "    eval(parse(\n",
    "        \"functions[\\\"\" * module_name * \"\\\"] = \" * module_name * \".\" * function_name\n",
    "    ))\n",
    "end\n",
    "\n",
    "functions[\"oyamad\"] = oyamad.deferred_acceptance;"
   ]
  },
  {
   "cell_type": "code",
   "execution_count": 11,
   "metadata": {
    "collapsed": false,
    "scrolled": true
   },
   "outputs": [
    {
     "data": {
      "text/plain": [
       "Dict{ASCIIString,Function} with 11 entries:\n",
       "  \"NlGG\"         => NlGG.deferred_acceptance\n",
       "  \"oyamad\"       => Matching.deferred_acceptance\n",
       "  \"EikiTakigawa\" => EikiTakigawa.deferred_acceptance\n",
       "  \"myuuuuun\"     => myuuuuun.Matching.gale_shapley_T\n",
       "  \"IoriS\"        => IoriS.deferred_acceptance\n",
       "  \"SUZUKITAISHI\" => SUZUKITAISHI.my_Gale_Shap\n",
       "  \"nswa17\"       => nswa17.DA.call_match\n",
       "  \"M_okb\"        => M_okb.okb_DA_algo\n",
       "  \"keiikegami\"   => keiikegami.ikegamida_mm\n",
       "  \"tsuyoshi\"     => tsuyoshi.deferred_acceptance\n",
       "  \"oyataku1\"     => oyataku1.deferred_acceptance"
      ]
     },
     "execution_count": 11,
     "metadata": {},
     "output_type": "execute_result"
    }
   ],
   "source": [
    "functions"
   ]
  },
  {
   "cell_type": "markdown",
   "metadata": {},
   "source": [
    "## Testing One-to-One"
   ]
  },
  {
   "cell_type": "code",
   "execution_count": 12,
   "metadata": {
    "collapsed": false,
    "scrolled": false
   },
   "outputs": [
    {
     "name": "stdout",
     "output_type": "stream",
     "text": [
      "NlGG\n",
      "  0.229103 seconds (153.23 k allocations: 7.536 MB, 2.62% gc time)\n",
      "  0.004232 seconds (326 allocations: 25.250 KB)\n",
      "  0.000031 seconds (272 allocations: 21.906 KB)\n",
      "  OK\n",
      "oyamad\n",
      "  0.000016 seconds (49 allocations: 7.016 KB)\n",
      "  0.000010 seconds (51 allocations: 7.078 KB)\n",
      "  0.000008 seconds (49 allocations: 7.016 KB)\n",
      "  OK\n",
      "EikiTakigawa\n",
      "  0.096480 seconds (64.00 k allocations: 2.882 MB)\n",
      "  0.000051 seconds (212 allocations: 29.391 KB)\n",
      "  0.000037 seconds (210 allocations: 29.328 KB)\n",
      "  OK\n",
      "myuuuuun\n",
      "  NA\n",
      "IoriS\n",
      "  0.099193 seconds (27.41 k allocations: 1.298 MB)\n",
      "  0.000034 seconds (201 allocations: 16.734 KB)\n",
      "  0.000017 seconds (199 allocations: 16.672 KB)\n",
      "  OK\n",
      "SUZUKITAISHI\n",
      "  0.103860 seconds (35.90 k allocations: 1.662 MB)\n",
      "  0.000524 seconds (230 allocations: 19.375 KB)\n",
      "  0.000031 seconds (228 allocations: 19.313 KB)\n",
      "  OK\n",
      "nswa17\n",
      "  0.149516 seconds (95.04 k allocations: 4.463 MB)\n",
      "  0.000013 seconds (27 allocations: 2.344 KB)\n",
      "  0.000007 seconds (25 allocations: 2.281 KB)\n",
      "  OK\n",
      "M_okb\n",
      "  0.064192 seconds (38.24 k allocations: 1.763 MB)\n",
      "  0.000007 seconds (14 allocations: 1.500 KB)\n",
      "  0.000004 seconds (12 allocations: 1.438 KB)\n",
      "  OK\n",
      "keiikegami\n",
      "  0.374485 seconds (256.04 k allocations: 11.029 MB, 1.77% gc time)\n",
      "  0.000681 seconds (922 allocations: 63.469 KB)\n",
      "  0.000541 seconds (920 allocations: 63.406 KB)\n",
      "  OK\n",
      "tsuyoshi\n",
      "  0.555930 seconds (359.19 k allocations: 16.631 MB)\n",
      "  0.001069 seconds (1.75 k allocations: 777.813 KB)\n",
      "  0.001109 seconds (1.75 k allocations: 777.750 KB)\n",
      "  OK\n",
      "oyataku1\n",
      "  0.240126 seconds (172.69 k allocations: 7.193 MB, 3.45% gc time)\n",
      "  0.000063 seconds (468 allocations: 37.172 KB)\n",
      "  0.000082 seconds (466 allocations: 37.109 KB)\n",
      "  OK\n"
     ]
    }
   ],
   "source": [
    "m, n = 10, 5\n",
    "srand(1234)\n",
    "m_prefs, f_prefs = random_prefs(m, n)\n",
    "\n",
    "prop_matches_oy, resp_matches_oy = oyamad.deferred_acceptance(m_prefs, f_prefs)\n",
    "\n",
    "for (k, fn) in functions\n",
    "    println(k)\n",
    "    try\n",
    "        @time fn(m_prefs, f_prefs)\n",
    "    catch\n",
    "        println(\"  NA\")\n",
    "        continue\n",
    "    end\n",
    "    @time prop_matches, resp_matches = fn(m_prefs, f_prefs)\n",
    "    @time fn(m_prefs, f_prefs)\n",
    "    if prop_matches == prop_matches_oy && resp_matches == resp_matches_oy\n",
    "        println(\"  OK\")\n",
    "    else\n",
    "        println(\"  returned: $prop_matches; expected: $prop_matches_oy\")\n",
    "        println(\"  returned: $resp_matches; expected: $resp_matches_oy\")\n",
    "    end\n",
    "end"
   ]
  },
  {
   "cell_type": "markdown",
   "metadata": {},
   "source": [
    "## Testing Many-to-One"
   ]
  },
  {
   "cell_type": "code",
   "execution_count": 13,
   "metadata": {
    "collapsed": false,
    "scrolled": false
   },
   "outputs": [
    {
     "name": "stdout",
     "output_type": "stream",
     "text": [
      "NlGG\n",
      "  0.000404 seconds (202 allocations: 17.078 KB)\n",
      "  0.000017 seconds (205 allocations: 17.172 KB)\n",
      "  0.000012 seconds (202 allocations: 17.078 KB)\n",
      "  OK\n",
      "oyamad\n",
      "  0.000014 seconds (47 allocations: 6.906 KB)\n",
      "  0.000010 seconds (50 allocations: 7.000 KB)\n",
      "  0.000007 seconds (47 allocations: 6.906 KB)\n",
      "  OK\n",
      "EikiTakigawa\n",
      "  0.000478 seconds (172 allocations: 22.375 KB)\n",
      "  0.000033 seconds (175 allocations: 22.469 KB)\n",
      "  0.000023 seconds (172 allocations: 22.375 KB)\n",
      "  OK\n",
      "myuuuuun\n",
      "  NA\n",
      "IoriS\n",
      "  0.000289 seconds (205 allocations: 17.359 KB)\n",
      "  0.000024 seconds (208 allocations: 17.453 KB)\n",
      "  0.000020 seconds (205 allocations: 17.359 KB)\n",
      "  OK\n",
      "SUZUKITAISHI\n",
      "  0.000444 seconds (280 allocations: 23.719 KB)\n",
      "  0.000039 seconds (283 allocations: 23.813 KB)\n",
      "  0.000073 seconds (280 allocations: 23.719 KB)\n",
      "  OK\n",
      "nswa17\n",
      "  0.081710 seconds (82.32 k allocations: 3.563 MB)\n",
      "  0.000028 seconds (45 allocations: 3.250 KB)\n",
      "  0.000008 seconds (42 allocations: 3.156 KB)\n",
      "  OK\n",
      "M_okb\n",
      "  0.000262 seconds (10 allocations: 1.328 KB)\n",
      "  0.000004 seconds (13 allocations: 1.422 KB)\n",
      "  0.000003 seconds (10 allocations: 1.328 KB)\n",
      "  OK\n",
      "keiikegami\n",
      "  0.000940 seconds (862 allocations: 59.828 KB)\n",
      "  0.000224 seconds (865 allocations: 59.922 KB)\n",
      "  0.000214 seconds (862 allocations: 59.828 KB)\n",
      "  OK\n",
      "tsuyoshi\n",
      "  0.002049 seconds (1.31 k allocations: 543.219 KB)\n",
      "  0.000767 seconds (1.27 k allocations: 540.828 KB)\n",
      "  0.000572 seconds (1.26 k allocations: 540.734 KB)\n",
      "  OK\n",
      "oyataku1\n",
      "  0.000884 seconds (451 allocations: 36.391 KB)\n",
      "  0.000044 seconds (454 allocations: 36.484 KB)\n",
      "  0.000038 seconds (451 allocations: 36.391 KB)\n",
      "  OK\n"
     ]
    }
   ],
   "source": [
    "m, n = 10, 5\n",
    "c = 2  # Number of caps\n",
    "srand(1234)\n",
    "m_prefs, f_prefs = random_prefs(m, n)\n",
    "caps = Array(Int, n)\n",
    "fill!(caps, c)\n",
    "\n",
    "prop_matches_oy, resp_matches_oy, indptr_oy =\n",
    "    oyamad.deferred_acceptance(m_prefs, f_prefs, caps)\n",
    "for j in 1:n\n",
    "    sort!(sub(resp_matches_oy,\n",
    "              indptr_oy[j]:indptr_oy[j+1]-1)\n",
    "    )\n",
    "end\n",
    "\n",
    "for (k, fn) in functions\n",
    "    println(k)\n",
    "    try\n",
    "        @time fn(m_prefs, f_prefs, caps)\n",
    "    catch\n",
    "        println(\"  NA\")\n",
    "        continue\n",
    "    end\n",
    "    @time prop_matches, resp_matches, indptr = fn(m_prefs, f_prefs, caps)\n",
    "    @time fn(m_prefs, f_prefs, caps)\n",
    "    \n",
    "    for j in 1:n\n",
    "        sort!(sub(resp_matches,\n",
    "                  indptr[j]:indptr[j+1]-1)\n",
    "        )\n",
    "    end\n",
    "    if prop_matches == prop_matches_oy && resp_matches == resp_matches_oy &&\n",
    "        indptr == indptr_oy\n",
    "        println(\"  OK\")\n",
    "    else\n",
    "        println(\"  returned: $prop_matches; expected: $prop_matches_oy\")\n",
    "        println(\"  returned: $resp_matches; expected: $resp_matches_oy\")\n",
    "    end\n",
    "end"
   ]
  },
  {
   "cell_type": "markdown",
   "metadata": {},
   "source": [
    "## Performance Comparison"
   ]
  },
  {
   "cell_type": "code",
   "execution_count": 14,
   "metadata": {
    "collapsed": false,
    "scrolled": false
   },
   "outputs": [
    {
     "data": {
      "text/plain": [
       "performance (generic function with 3 methods)"
      ]
     },
     "execution_count": 14,
     "metadata": {},
     "output_type": "execute_result"
    }
   ],
   "source": [
    "function performance(m::Int, n::Int, caps::Vector{Int}, rng::AbstractRNG)\n",
    "    m_prefs, f_prefs = random_prefs(rng, m, n)\n",
    "    \n",
    "    times = Array(Float64, length(functions))\n",
    "    names = Array(ASCIIString, length(functions))\n",
    "    #allocs = Array(Int, length(functions))\n",
    "    \n",
    "    for (i, (k, fn)) in enumerate(functions)\n",
    "        time = 0.\n",
    "        try\n",
    "            fn(m_prefs, f_prefs, caps)\n",
    "            fn(m_prefs, f_prefs, caps)\n",
    "            _, time, _, _ = @timed fn(m_prefs, f_prefs, caps)\n",
    "        catch\n",
    "            time = 9999.\n",
    "        end\n",
    "        times[i] = time\n",
    "        names[i] = k\n",
    "        #allocs[i] = alloc\n",
    "    end\n",
    "    \n",
    "    indices = sortperm(times)\n",
    "    for i in indices\n",
    "        println(names[i])\n",
    "        @printf(\"  %0.9f seconds\\n\", times[i])\n",
    "    end\n",
    "end\n",
    "\n",
    "performance(m::Int, n::Int, caps::Vector{Int}, seed::Int) =\n",
    "    performance(m, n, caps, MersenneTwister(seed))\n",
    "performance(m::Int, n::Int, caps::Vector{Int}) =\n",
    "    performance(m, n, caps, Base.GLOBAL_RNG)"
   ]
  },
  {
   "cell_type": "code",
   "execution_count": 15,
   "metadata": {
    "collapsed": false
   },
   "outputs": [
    {
     "data": {
      "text/plain": [
       "1234"
      ]
     },
     "execution_count": 15,
     "metadata": {},
     "output_type": "execute_result"
    }
   ],
   "source": [
    "seed = 1234"
   ]
  },
  {
   "cell_type": "code",
   "execution_count": 16,
   "metadata": {
    "collapsed": false
   },
   "outputs": [
    {
     "name": "stdout",
     "output_type": "stream",
     "text": [
      "M_okb\n",
      "  0.003770121 seconds\n",
      "oyamad\n",
      "  0.005121670 seconds\n",
      "nswa17\n",
      "  0.005824514 seconds\n",
      "IoriS\n",
      "  0.040685155 seconds\n",
      "EikiTakigawa\n",
      "  0.064808207 seconds\n",
      "oyataku1\n",
      "  0.089338253 seconds\n",
      "SUZUKITAISHI\n",
      "  0.108241933 seconds\n",
      "tsuyoshi\n",
      "  0.542399106 seconds\n",
      "NlGG\n",
      "  0.586721696 seconds\n",
      "keiikegami\n",
      "  2.206599403 seconds\n",
      "myuuuuun\n",
      "  9999.000000000 seconds\n"
     ]
    }
   ],
   "source": [
    "m, n = 500, 500\n",
    "caps = ones(Int, n)  # one-to-one\n",
    "performance(m, n, caps, seed)"
   ]
  },
  {
   "cell_type": "code",
   "execution_count": 17,
   "metadata": {
    "collapsed": false
   },
   "outputs": [
    {
     "name": "stdout",
     "output_type": "stream",
     "text": [
      "M_okb\n",
      "  0.000011129 seconds\n",
      "oyamad\n",
      "  0.000024366 seconds\n",
      "nswa17\n",
      "  0.000042805 seconds\n",
      "IoriS\n",
      "  0.000727181 seconds\n",
      "NlGG\n",
      "  0.000759908 seconds\n",
      "oyataku1\n",
      "  0.000949126 seconds\n",
      "EikiTakigawa\n",
      "  0.001442077 seconds\n",
      "SUZUKITAISHI\n",
      "  0.002651004 seconds\n",
      "tsuyoshi\n",
      "  0.007402193 seconds\n",
      "keiikegami\n",
      "  0.007408547 seconds\n",
      "myuuuuun\n",
      "  9999.000000000 seconds\n"
     ]
    }
   ],
   "source": [
    "m = 100\n",
    "c = 10\n",
    "n = div(m, c)\n",
    "caps = Array(Int, n)\n",
    "fill!(caps, c)\n",
    "performance(m, n, caps, seed)"
   ]
  },
  {
   "cell_type": "code",
   "execution_count": 18,
   "metadata": {
    "collapsed": false
   },
   "outputs": [
    {
     "name": "stdout",
     "output_type": "stream",
     "text": [
      "oyamad\n",
      "  0.000120200 seconds\n",
      "M_okb\n",
      "  0.000120583 seconds\n",
      "nswa17\n",
      "  0.000238932 seconds\n",
      "NlGG\n",
      "  0.010082437 seconds\n",
      "keiikegami\n",
      "  0.038535363 seconds\n",
      "EikiTakigawa\n",
      "  0.105584519 seconds\n",
      "IoriS\n",
      "  0.147566926 seconds\n",
      "oyataku1\n",
      "  0.206051797 seconds\n",
      "tsuyoshi\n",
      "  0.349435162 seconds\n",
      "SUZUKITAISHI\n",
      "  3.265877307 seconds\n",
      "myuuuuun\n",
      "  9999.000000000 seconds\n"
     ]
    }
   ],
   "source": [
    "m = 500\n",
    "c = 50\n",
    "n = div(m, c)\n",
    "caps = Array(Int, n)\n",
    "fill!(caps, c)\n",
    "performance(m, n, caps, seed)"
   ]
  },
  {
   "cell_type": "code",
   "execution_count": 19,
   "metadata": {
    "collapsed": false
   },
   "outputs": [
    {
     "name": "stdout",
     "output_type": "stream",
     "text": [
      "oyamad\n",
      "  0.000374656 seconds\n",
      "M_okb\n",
      "  0.000429230 seconds\n",
      "nswa17\n",
      "  0.000777612 seconds\n",
      "NlGG\n",
      "  0.092031945 seconds\n",
      "keiikegami\n",
      "  0.153811151 seconds\n",
      "EikiTakigawa\n",
      "  0.511887711 seconds\n",
      "IoriS\n",
      "  0.541142028 seconds\n",
      "oyataku1\n",
      "  0.608581231 seconds\n",
      "tsuyoshi\n",
      "  0.849483178 seconds\n",
      "SUZUKITAISHI\n",
      "  12.089946372 seconds\n",
      "myuuuuun\n",
      "  9999.000000000 seconds\n"
     ]
    }
   ],
   "source": [
    "m = 1000\n",
    "c = 50\n",
    "n = div(m, c)\n",
    "caps = Array(Int, n)\n",
    "fill!(caps, c)\n",
    "performance(m, n, caps, seed)"
   ]
  },
  {
   "cell_type": "code",
   "execution_count": 20,
   "metadata": {
    "collapsed": false
   },
   "outputs": [
    {
     "name": "stdout",
     "output_type": "stream",
     "text": [
      "oyamad\n",
      "  0.000207096 seconds\n",
      "M_okb\n",
      "  0.000330993 seconds\n",
      "nswa17\n",
      "  0.000345872 seconds\n",
      "NlGG\n",
      "  0.029665631 seconds\n",
      "keiikegami\n",
      "  0.051590795 seconds\n",
      "EikiTakigawa\n",
      "  0.647007821 seconds\n",
      "IoriS\n",
      "  0.826486500 seconds\n",
      "oyataku1\n",
      "  0.997225794 seconds\n",
      "tsuyoshi\n",
      "  2.316589905 seconds\n",
      "SUZUKITAISHI\n",
      "  33.079156536 seconds\n",
      "myuuuuun\n",
      "  9999.000000000 seconds\n"
     ]
    }
   ],
   "source": [
    "m = 1000\n",
    "c = 100\n",
    "n = div(m, 2*c)\n",
    "caps = Array(Int, n)\n",
    "fill!(caps, c)\n",
    "performance(m, n, caps, seed)"
   ]
  },
  {
   "cell_type": "code",
   "execution_count": 21,
   "metadata": {
    "collapsed": false
   },
   "outputs": [
    {
     "name": "stdout",
     "output_type": "stream",
     "text": [
      "M_okb\n",
      "  0.000203420 seconds\n",
      "oyamad\n",
      "  0.000345198 seconds\n",
      "nswa17\n",
      "  0.000358421 seconds\n",
      "tsuyoshi\n",
      "  0.048579840 seconds\n",
      "myuuuuun\n",
      "  0.065706607 seconds\n",
      "NlGG\n",
      "  0.136128421 seconds\n",
      "keiikegami\n",
      "  0.154921927 seconds\n",
      "IoriS\n",
      "  0.589332416 seconds\n",
      "oyataku1\n",
      "  0.593708216 seconds\n",
      "EikiTakigawa\n",
      "  0.776728034 seconds\n",
      "SUZUKITAISHI\n",
      "  9.345274726 seconds\n"
     ]
    }
   ],
   "source": [
    "m = 1000\n",
    "c = 100\n",
    "n = div(m, c) * 2\n",
    "caps = Array(Int, n)\n",
    "fill!(caps, c)\n",
    "performance(m, n, caps, seed)"
   ]
  },
  {
   "cell_type": "code",
   "execution_count": null,
   "metadata": {
    "collapsed": true
   },
   "outputs": [],
   "source": []
  }
 ],
 "metadata": {
  "kernelspec": {
   "display_name": "Julia 0.4.6",
   "language": "julia",
   "name": "julia-0.4"
  },
  "language_info": {
   "file_extension": ".jl",
   "mimetype": "application/julia",
   "name": "julia",
   "version": "0.4.6"
  }
 },
 "nbformat": 4,
 "nbformat_minor": 0
}
