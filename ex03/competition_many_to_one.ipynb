{
 "cells": [
  {
   "cell_type": "code",
   "execution_count": null,
   "metadata": {
    "collapsed": true
   },
   "outputs": [],
   "source": [
    "using Matching"
   ]
  },
  {
   "cell_type": "code",
   "execution_count": null,
   "metadata": {
    "collapsed": false,
    "scrolled": false
   },
   "outputs": [],
   "source": [
    "urls = [\n",
    "    \"https://raw.githubusercontent.com/EikiTakigawa/Deferred-Acceptance/a74feec27a0720a4821cfd3827701201d73072b9/DA_Many_to_1.jl\",\n",
    "    \"https://raw.githubusercontent.com/IoriS/Ex03/b2623c18aa4c24571cb2028339283450721c8ff2/deferred_acceptance.jl\",\n",
    "    \"https://raw.githubusercontent.com/keiikegami/DA_Julia/435e4fb243faf371dc9d3db2c4006e4b0ff64730/ikegamida_mm.jl\",\n",
    "    \"https://raw.githubusercontent.com/M-okb/DA-Matching/793c2eceb3a4b9b88c074a98da715a344bb9cf13/many_to_one.jl\",\n",
    "    \"https://raw.githubusercontent.com/myuuuuun/oyama_seminar2016/31cc89df572213ac1d7dc4da320b8d2697932fb1/exercise/ex03/matching.jl\",\n",
    "    \"https://raw.githubusercontent.com/NlGG/Economics/c9ac87dc1ce2acdbf08a30be89986e2124685e86/deferred_acceptance.jl\",\n",
    "    \"https://raw.githubusercontent.com/nswa17/DA_alg.jl/522791c03866a812a610de68618ff105b33bd55c/da.jl\",\n",
    "    \"https://raw.githubusercontent.com/oyataku1/Matching/4298b98e530e326aba05fbae6c9fdba39a058a8a/deferred_acceptance.jl\",\n",
    "    \"https://raw.githubusercontent.com/SUZUKITAISHI/matching/701096f5bc327a4f619e4f9985cc4674afb6869c/my_Gale_Shap.jl\",\n",
    "    \"https://raw.githubusercontent.com/13tsuyoshi/matching/79049ddc672d9795bec6bceab8209cf40a974d30/Many_to_one.jl\",\n",
    "]\n",
    "function_names = [\n",
    "    \"deferred_acceptance\",\n",
    "    \"deferred_acceptance\",\n",
    "    \"ikegamida_mm\",\n",
    "    \"okb_DA_algo\",\n",
    "    \"Matching.gale_shapley_T\",\n",
    "    \"deferred_acceptance\",\n",
    "    \"DA.call_match\",\n",
    "    \"deferred_acceptance\",\n",
    "    \"my_Gale_Shap\",\n",
    "    \"deferred_acceptance\",\n",
    "];"
   ]
  },
  {
   "cell_type": "code",
   "execution_count": null,
   "metadata": {
    "collapsed": false
   },
   "outputs": [],
   "source": [
    "file_names = [split(url, \"/\")[end] for url in urls]\n",
    "dir_names = [split(url, \"/\")[4] for url in urls]\n",
    "paths = [join((dir_name, file_name), \"/\")\n",
    "    for (dir_name, file_name) in zip(dir_names, file_names)];"
   ]
  },
  {
   "cell_type": "code",
   "execution_count": null,
   "metadata": {
    "collapsed": false
   },
   "outputs": [],
   "source": [
    "module_names = [\n",
    "    replace(\n",
    "        replace(dir_name, \"-\", \"_\"),\n",
    "        r\"^[1-9]+\", \"\"\n",
    "    )\n",
    "    for dir_name in dir_names\n",
    "];"
   ]
  },
  {
   "cell_type": "code",
   "execution_count": null,
   "metadata": {
    "collapsed": false
   },
   "outputs": [],
   "source": [
    "function download_files(overwrite::Bool=false)\n",
    "    for (url, dir_name, path) in zip(urls, dir_names, paths)\n",
    "        if !isdir(dir_name)\n",
    "            mkdir(dir_name)\n",
    "        end\n",
    "        \n",
    "        if !isfile(path) || overwrite\n",
    "            download(url, path)\n",
    "        end\n",
    "    end\n",
    "end"
   ]
  },
  {
   "cell_type": "code",
   "execution_count": null,
   "metadata": {
    "collapsed": false
   },
   "outputs": [],
   "source": [
    "download_files(true)"
   ]
  },
  {
   "cell_type": "code",
   "execution_count": null,
   "metadata": {
    "collapsed": false
   },
   "outputs": [],
   "source": [
    "function load_module(module_name, path)\n",
    "    module_name = parse(module_name)\n",
    "    eval(Expr(:toplevel, :(\n",
    "        module ($module_name)\n",
    "        include($path)\n",
    "        end\n",
    "    ), module_name, path))\n",
    "end"
   ]
  },
  {
   "cell_type": "code",
   "execution_count": null,
   "metadata": {
    "collapsed": false,
    "scrolled": false
   },
   "outputs": [],
   "source": [
    "for (module_name, path) in zip(module_names, paths)\n",
    "    load_module(module_name, path)\n",
    "end"
   ]
  },
  {
   "cell_type": "code",
   "execution_count": null,
   "metadata": {
    "collapsed": false
   },
   "outputs": [],
   "source": [
    "module oyamad\n",
    "deferred_acceptance = Main.Matching.deferred_acceptance\n",
    "end"
   ]
  },
  {
   "cell_type": "code",
   "execution_count": null,
   "metadata": {
    "collapsed": false
   },
   "outputs": [],
   "source": [
    "functions = Dict{ASCIIString, Function}()\n",
    "\n",
    "for (module_name, function_name) in zip(module_names, function_names)\n",
    "    eval(parse(\n",
    "        \"functions[\\\"\" * module_name * \"\\\"] = \" * module_name * \".\" * function_name\n",
    "    ))\n",
    "end\n",
    "\n",
    "functions[\"oyamad\"] = oyamad.deferred_acceptance;"
   ]
  },
  {
   "cell_type": "code",
   "execution_count": null,
   "metadata": {
    "collapsed": false,
    "scrolled": true
   },
   "outputs": [],
   "source": [
    "functions"
   ]
  },
  {
   "cell_type": "markdown",
   "metadata": {},
   "source": [
    "## Testing One-to-One"
   ]
  },
  {
   "cell_type": "code",
   "execution_count": null,
   "metadata": {
    "collapsed": false,
    "scrolled": false
   },
   "outputs": [],
   "source": [
    "m, n = 10, 5\n",
    "srand(1234)\n",
    "m_prefs, f_prefs = random_prefs(m, n)\n",
    "\n",
    "prop_matches_oy, resp_matches_oy = oyamad.deferred_acceptance(m_prefs, f_prefs)\n",
    "\n",
    "for (k, fn) in functions\n",
    "    println(k)\n",
    "    try\n",
    "        @time fn(m_prefs, f_prefs)\n",
    "    catch\n",
    "        println(\"  NA\")\n",
    "        continue\n",
    "    end\n",
    "    @time prop_matches, resp_matches = fn(m_prefs, f_prefs)\n",
    "    @time fn(m_prefs, f_prefs)\n",
    "    if prop_matches == prop_matches_oy && resp_matches == resp_matches_oy\n",
    "        println(\"  OK\")\n",
    "    else\n",
    "        println(\"  returned: $prop_matches; expected: $prop_matches_oy\")\n",
    "        println(\"  returned: $resp_matches; expected: $resp_matches_oy\")\n",
    "    end\n",
    "end"
   ]
  },
  {
   "cell_type": "markdown",
   "metadata": {},
   "source": [
    "## Testing Many-to-One"
   ]
  },
  {
   "cell_type": "code",
   "execution_count": null,
   "metadata": {
    "collapsed": false,
    "scrolled": false
   },
   "outputs": [],
   "source": [
    "m, n = 10, 5\n",
    "c = 2  # Number of caps\n",
    "srand(1234)\n",
    "m_prefs, f_prefs = random_prefs(m, n)\n",
    "caps = Array(Int, n)\n",
    "fill!(caps, c)\n",
    "\n",
    "prop_matches_oy, resp_matches_oy, indptr_oy =\n",
    "    oyamad.deferred_acceptance(m_prefs, f_prefs, caps)\n",
    "for j in 1:n\n",
    "    sort!(sub(resp_matches_oy,\n",
    "              indptr_oy[j]:indptr_oy[j+1]-1)\n",
    "    )\n",
    "end\n",
    "\n",
    "for (k, fn) in functions\n",
    "    println(k)\n",
    "    try\n",
    "        @time fn(m_prefs, f_prefs, caps)\n",
    "    catch\n",
    "        println(\"  NA\")\n",
    "        continue\n",
    "    end\n",
    "    @time prop_matches, resp_matches, indptr = fn(m_prefs, f_prefs, caps)\n",
    "    @time fn(m_prefs, f_prefs, caps)\n",
    "    \n",
    "    for j in 1:n\n",
    "        sort!(sub(resp_matches,\n",
    "                  indptr[j]:indptr[j+1]-1)\n",
    "        )\n",
    "    end\n",
    "    if prop_matches == prop_matches_oy && resp_matches == resp_matches_oy &&\n",
    "        indptr == indptr_oy\n",
    "        println(\"  OK\")\n",
    "    else\n",
    "        println(\"  returned: $prop_matches; expected: $prop_matches_oy\")\n",
    "        println(\"  returned: $resp_matches; expected: $resp_matches_oy\")\n",
    "    end\n",
    "end"
   ]
  },
  {
   "cell_type": "markdown",
   "metadata": {},
   "source": [
    "## Performance Comparison"
   ]
  },
  {
   "cell_type": "code",
   "execution_count": null,
   "metadata": {
    "collapsed": false
   },
   "outputs": [],
   "source": [
    "functions"
   ]
  },
  {
   "cell_type": "code",
   "execution_count": null,
   "metadata": {
    "collapsed": false,
    "scrolled": false
   },
   "outputs": [],
   "source": [
    "function performance(m::Int, n::Int, caps::Vector{Int}, rng::AbstractRNG)\n",
    "    m_prefs, f_prefs = random_prefs(rng, m, n)\n",
    "    \n",
    "    times = Array(Float64, length(functions))\n",
    "    names = Array(ASCIIString, length(functions))\n",
    "    #allocs = Array(Int, length(functions))\n",
    "    \n",
    "    for (i, (k, fn)) in enumerate(functions)\n",
    "        time = 0.\n",
    "        try\n",
    "            fn(m_prefs, f_prefs, caps)\n",
    "            fn(m_prefs, f_prefs, caps)\n",
    "            _, time, _, _ = @timed fn(m_prefs, f_prefs, caps)\n",
    "        catch\n",
    "            time = 9999.\n",
    "        end\n",
    "        times[i] = time\n",
    "        names[i] = k\n",
    "        #allocs[i] = alloc\n",
    "    end\n",
    "    \n",
    "    indices = sortperm(times)\n",
    "    for i in indices\n",
    "        println(names[i])\n",
    "        @printf(\"  %0.9f seconds\\n\", times[i])\n",
    "    end\n",
    "end\n",
    "\n",
    "performance(m::Int, n::Int, caps::Vector{Int}, seed::Int) =\n",
    "    performance(m, n, caps, MersenneTwister(seed))\n",
    "performance(m::Int, n::Int, caps::Vector{Int}) =\n",
    "    performance(m, n, caps, Base.GLOBAL_RNG)"
   ]
  },
  {
   "cell_type": "code",
   "execution_count": null,
   "metadata": {
    "collapsed": false
   },
   "outputs": [],
   "source": [
    "seed = 1234"
   ]
  },
  {
   "cell_type": "code",
   "execution_count": null,
   "metadata": {
    "collapsed": false
   },
   "outputs": [],
   "source": [
    "m, n = 500, 500\n",
    "caps = ones(Int, n)  # one-to-one\n",
    "performance(m, n, caps, seed)"
   ]
  },
  {
   "cell_type": "code",
   "execution_count": null,
   "metadata": {
    "collapsed": false
   },
   "outputs": [],
   "source": [
    "m = 100\n",
    "c = 10\n",
    "n = div(m, c)\n",
    "caps = Array(Int, n)\n",
    "fill!(caps, c)\n",
    "performance(m, n, caps, seed)"
   ]
  },
  {
   "cell_type": "code",
   "execution_count": null,
   "metadata": {
    "collapsed": false
   },
   "outputs": [],
   "source": [
    "m = 500\n",
    "c = 50\n",
    "n = div(m, c)\n",
    "caps = Array(Int, n)\n",
    "fill!(caps, c)\n",
    "performance(m, n, caps, seed)"
   ]
  },
  {
   "cell_type": "code",
   "execution_count": null,
   "metadata": {
    "collapsed": false
   },
   "outputs": [],
   "source": [
    "m = 1000\n",
    "c = 50\n",
    "n = div(m, c)\n",
    "caps = Array(Int, n)\n",
    "fill!(caps, c)\n",
    "performance(m, n, caps, seed)"
   ]
  },
  {
   "cell_type": "code",
   "execution_count": null,
   "metadata": {
    "collapsed": true
   },
   "outputs": [],
   "source": []
  }
 ],
 "metadata": {
  "kernelspec": {
   "display_name": "Julia 0.4.6",
   "language": "julia",
   "name": "julia-0.4"
  },
  "language_info": {
   "file_extension": ".jl",
   "mimetype": "application/julia",
   "name": "julia",
   "version": "0.4.6"
  }
 },
 "nbformat": 4,
 "nbformat_minor": 0
}
