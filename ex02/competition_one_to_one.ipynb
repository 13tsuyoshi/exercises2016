{
 "cells": [
  {
   "cell_type": "code",
   "execution_count": 1,
   "metadata": {
    "collapsed": true
   },
   "outputs": [],
   "source": [
    "using Matching"
   ]
  },
  {
   "cell_type": "code",
   "execution_count": 2,
   "metadata": {
    "collapsed": false,
    "scrolled": true
   },
   "outputs": [],
   "source": [
    "module EikiTakigawa\n",
    "include(\"EikiTakigawa/DA_1to1.jl\")\n",
    "deferred_acceptance = Match\n",
    "end\n",
    "\n",
    "module IoriS\n",
    "include(\"IoriS/deferred_acceptance.jl\")\n",
    "deferred_acceptance = deferred_acceptance\n",
    "end\n",
    "\n",
    "module keiikegami\n",
    "include(\"keiikegami/ikegamida.jl\")\n",
    "deferred_acceptance = ikegamida\n",
    "end\n",
    "\n",
    "module M_okb\n",
    "include(\"M_okb/one-to-one.jl\")\n",
    "deferred_acceptance = DA_algo\n",
    "end\n",
    "\n",
    "module myuuuuun\n",
    "include(\"myuuuuun/matching.jl\")\n",
    "deferred_acceptance = Matching.gale_shapley_T\n",
    "end\n",
    "\n",
    "module NlGG\n",
    "include(\"NlGG/deferred_acceptance.jl\")\n",
    "deferred_acceptance = deferred_acceptance\n",
    "end\n",
    "\n",
    "module nswa17\n",
    "include(\"nswa17/da.jl\")\n",
    "deferred_acceptance = DA.call_match\n",
    "end\n",
    "\n",
    "module oyamad\n",
    "deferred_acceptance = Main.Matching.deferred_acceptance\n",
    "end\n",
    "\n",
    "module R_Tsushima\n",
    "include(\"R_Tsushima/deffered_acceptance.jl\")\n",
    "deferred_acceptance = def_acc\n",
    "end\n",
    "\n",
    "module oyataku1\n",
    "include(\"oyataku1/deferred_acceptance.jl\")\n",
    "deferred_acceptance = deferred_acceptance\n",
    "end\n",
    "\n",
    "module SUZUKITAISHI\n",
    "include(\"SUZUKITAISHI/my_Gale_Shap.jl\")\n",
    "deferred_acceptance = my_Gale_Shap\n",
    "end\n",
    "\n",
    "module taneaki\n",
    "include(\"taneaki/deferred_acceptance.jl\")\n",
    "deferred_acceptance = deferred_acceptance\n",
    "end\n",
    "\n",
    "module tsuyoshi\n",
    "include(\"tsuyoshi/deferred_acceptance.jl\")\n",
    "deferred_acceptance = deferred_acceptance\n",
    "end;"
   ]
  },
  {
   "cell_type": "code",
   "execution_count": 3,
   "metadata": {
    "collapsed": true
   },
   "outputs": [],
   "source": [
    "modules = [\n",
    "    EikiTakigawa,\n",
    "    IoriS,\n",
    "    keiikegami,\n",
    "    M_okb,\n",
    "    myuuuuun,\n",
    "    NlGG,\n",
    "    nswa17,\n",
    "    oyamad,\n",
    "    R_Tsushima,\n",
    "    SUZUKITAISHI,\n",
    "    taneaki,\n",
    "    tsuyoshi,\n",
    "];"
   ]
  },
  {
   "cell_type": "code",
   "execution_count": 4,
   "metadata": {
    "collapsed": false
   },
   "outputs": [
    {
     "name": "stdout",
     "output_type": "stream",
     "text": [
      "EikiTakigawa\n",
      "  0.296825 seconds (72.63 k allocations: 3.531 MB, 7.07% gc time)\n",
      "  0.000058 seconds (207 allocations: 29.078 KB)\n",
      "  0.000051 seconds (207 allocations: 29.078 KB)\n",
      "  OK\n",
      "IoriS\n",
      "  0.020827 seconds (10.16 k allocations: 487.479 KB)\n",
      "  0.000022 seconds (132 allocations: 11.422 KB)\n",
      "  0.000015 seconds (132 allocations: 11.422 KB)\n",
      "  OK\n",
      "keiikegami\n",
      "  0.102879 seconds (75.78 k allocations: 3.639 MB)\n",
      "  0.000356 seconds (1.83 k allocations: 230.500 KB)\n",
      "  0.000564 seconds (1.83 k allocations: 230.500 KB)\n",
      "  OK\n",
      "M_okb\n",
      "  0.592845 seconds (297.64 k allocations: 13.702 MB)\n",
      "  0.000553 seconds (877 allocations: 431.281 KB)\n",
      "  0.000466 seconds (877 allocations: 431.281 KB)\n",
      "  OK\n",
      "myuuuuun\n",
      "  0.795439 seconds (578.88 k allocations: 25.977 MB, 2.27% gc time)\n",
      "  0.000215 seconds (398 allocations: 28.969 KB)\n",
      "  0.000231 seconds (398 allocations: 28.969 KB)\n",
      "  OK\n",
      "NlGG\n",
      "  0.089103 seconds (55.49 k allocations: 2.892 MB)\n",
      "  0.000272 seconds (663 allocations: 298.578 KB)\n",
      "  0.000304 seconds (663 allocations: 298.578 KB)\n",
      "  OK\n",
      "nswa17\n",
      "  0.102406 seconds (94.97 k allocations: 4.397 MB)\n",
      "  0.000012 seconds (25 allocations: 2.281 KB)\n",
      "  0.000006 seconds (25 allocations: 2.281 KB)\n",
      "  OK\n",
      "oyamad\n",
      "  0.000014 seconds (15 allocations: 5.500 KB)\n",
      "  0.000008 seconds (13 allocations: 5.438 KB)\n",
      "  0.000008 seconds (13 allocations: 5.438 KB)\n",
      "  OK\n",
      "R_Tsushima\n",
      "  0.060950 seconds (21.42 k allocations: 987.165 KB)\n",
      "  0.000015 seconds (124 allocations: 10.734 KB)\n",
      "  0.000011 seconds (124 allocations: 10.734 KB)\n",
      "  OK\n",
      "SUZUKITAISHI\n",
      "  0.023590 seconds (10.08 k allocations: 482.755 KB)\n",
      "  0.000011 seconds (169 allocations: 13.984 KB)\n",
      "  0.000009 seconds (169 allocations: 13.984 KB)\n",
      "  OK\n",
      "taneaki\n",
      "  0.087778 seconds (51.80 k allocations: 2.955 MB)\n",
      "  0.000795 seconds (1.29 k allocations: 578.781 KB)\n",
      "  0.000789 seconds (1.29 k allocations: 578.781 KB)\n",
      "  OK\n",
      "tsuyoshi\n",
      "  0.087146 seconds (59.63 k allocations: 3.080 MB)\n",
      "  0.000797 seconds (1.06 k allocations: 444.625 KB)\n",
      "  0.000719 seconds (1.06 k allocations: 444.625 KB)\n",
      "  OK\n"
     ]
    }
   ],
   "source": [
    "m, n = 10, 5\n",
    "srand(1234)\n",
    "m_prefs, f_prefs = random_prefs(m, n)\n",
    "\n",
    "prop_matches_oy, resp_matches_oy = oyamad.deferred_acceptance(m_prefs, f_prefs)\n",
    "\n",
    "for m in modules\n",
    "    println(m)\n",
    "    @time prop_matches, resp_matches = getfield(m, :deferred_acceptance)(m_prefs, f_prefs)\n",
    "    @time getfield(m, :deferred_acceptance)(m_prefs, f_prefs)\n",
    "    @time getfield(m, :deferred_acceptance)(m_prefs, f_prefs)\n",
    "    if prop_matches == prop_matches_oy && resp_matches == resp_matches_oy\n",
    "        println(\"  OK\")\n",
    "    else\n",
    "        println(\"  returned: $prop_matches; expected: $prop_matches_oy\")\n",
    "        println(\"  returned: $resp_matches; expected: $resp_matches_oy\")\n",
    "    end\n",
    "end"
   ]
  },
  {
   "cell_type": "code",
   "execution_count": 5,
   "metadata": {
    "collapsed": false
   },
   "outputs": [
    {
     "data": {
      "text/plain": [
       "performance (generic function with 1 method)"
      ]
     },
     "execution_count": 5,
     "metadata": {},
     "output_type": "execute_result"
    }
   ],
   "source": [
    "function performance(m, n; seee=1234)\n",
    "    m_prefs, f_prefs = random_prefs(m, n)\n",
    "    \n",
    "    times = Array(Float64, length(modules))\n",
    "    allocs = Array(Int, length(modules))\n",
    "    \n",
    "    for (i, m) in enumerate(modules)\n",
    "        getfield(m, :deferred_acceptance)(m_prefs, f_prefs)\n",
    "        getfield(m, :deferred_acceptance)(m_prefs, f_prefs)\n",
    "        _, time, alloc, _ = @timed getfield(m, :deferred_acceptance)(m_prefs, f_prefs)\n",
    "        times[i] = time\n",
    "        allocs[i] = alloc\n",
    "    end\n",
    "    \n",
    "    indices = sortperm(times)\n",
    "    for i in indices\n",
    "        println(modules[i])\n",
    "        @printf(\"  %0.9f seconds\\n\", times[i])\n",
    "    end\n",
    "end"
   ]
  },
  {
   "cell_type": "code",
   "execution_count": 6,
   "metadata": {
    "collapsed": false,
    "scrolled": true
   },
   "outputs": [
    {
     "name": "stdout",
     "output_type": "stream",
     "text": [
      "oyamad\n",
      "  0.000175649 seconds\n",
      "nswa17\n",
      "  0.000209161 seconds\n",
      "R_Tsushima\n",
      "  0.000896043 seconds\n",
      "SUZUKITAISHI\n",
      "  0.001265807 seconds\n",
      "EikiTakigawa\n",
      "  0.004024807 seconds\n",
      "IoriS\n",
      "  0.007183293 seconds\n",
      "NlGG\n",
      "  0.008098234 seconds\n",
      "tsuyoshi\n",
      "  0.014054229 seconds\n",
      "M_okb\n",
      "  0.014712454 seconds\n",
      "taneaki\n",
      "  0.017219504 seconds\n",
      "myuuuuun\n",
      "  0.021402975 seconds\n",
      "keiikegami\n",
      "  0.042828612 seconds\n"
     ]
    }
   ],
   "source": [
    "performance(100, 100)"
   ]
  },
  {
   "cell_type": "code",
   "execution_count": 7,
   "metadata": {
    "collapsed": false
   },
   "outputs": [
    {
     "name": "stdout",
     "output_type": "stream",
     "text": [
      "oyamad\n",
      "  0.000649729 seconds\n",
      "nswa17\n",
      "  0.000989885 seconds\n",
      "R_Tsushima\n",
      "  0.003598744 seconds\n",
      "SUZUKITAISHI\n",
      "  0.005718190 seconds\n",
      "IoriS\n",
      "  0.007981505 seconds\n",
      "EikiTakigawa\n",
      "  0.014712315 seconds\n",
      "NlGG\n",
      "  0.031577957 seconds\n",
      "M_okb\n",
      "  0.040094918 seconds\n",
      "taneaki\n",
      "  0.052802699 seconds\n",
      "tsuyoshi\n",
      "  0.058842673 seconds\n",
      "myuuuuun\n",
      "  0.117848320 seconds\n",
      "keiikegami\n",
      "  0.350986811 seconds\n"
     ]
    }
   ],
   "source": [
    "performance(200, 200)"
   ]
  },
  {
   "cell_type": "code",
   "execution_count": 8,
   "metadata": {
    "collapsed": false
   },
   "outputs": [
    {
     "name": "stdout",
     "output_type": "stream",
     "text": [
      "oyamad\n",
      "  0.002411307 seconds\n",
      "nswa17\n",
      "  0.002746885 seconds\n",
      "R_Tsushima\n",
      "  0.034630041 seconds\n",
      "IoriS\n",
      "  0.043125491 seconds\n",
      "EikiTakigawa\n",
      "  0.058790477 seconds\n",
      "SUZUKITAISHI\n",
      "  0.064819723 seconds\n",
      "NlGG\n",
      "  0.143738822 seconds\n",
      "M_okb\n",
      "  0.146643745 seconds\n",
      "taneaki\n",
      "  0.197254369 seconds\n",
      "tsuyoshi\n",
      "  0.214539631 seconds\n",
      "myuuuuun\n",
      "  0.751433679 seconds\n",
      "keiikegami\n",
      "  1.573320400 seconds\n"
     ]
    }
   ],
   "source": [
    "performance(500, 500)"
   ]
  },
  {
   "cell_type": "code",
   "execution_count": 9,
   "metadata": {
    "collapsed": false,
    "scrolled": true
   },
   "outputs": [
    {
     "name": "stdout",
     "output_type": "stream",
     "text": [
      "oyamad\n",
      "  0.012801167 seconds\n",
      "nswa17\n",
      "  0.021681569 seconds\n",
      "R_Tsushima\n",
      "  0.360270298 seconds\n",
      "IoriS\n",
      "  0.381144940 seconds\n",
      "EikiTakigawa\n",
      "  0.421838211 seconds\n",
      "M_okb\n",
      "  0.609456484 seconds\n",
      "SUZUKITAISHI\n",
      "  0.611161307 seconds\n",
      "NlGG\n",
      "  0.733709015 seconds\n",
      "taneaki\n",
      "  0.970111037 seconds\n",
      "tsuyoshi\n",
      "  1.140012490 seconds\n",
      "myuuuuun\n",
      "  4.146513176 seconds\n",
      "keiikegami\n",
      "  14.429166696 seconds\n"
     ]
    }
   ],
   "source": [
    "performance(1000, 1000)"
   ]
  },
  {
   "cell_type": "code",
   "execution_count": null,
   "metadata": {
    "collapsed": true
   },
   "outputs": [],
   "source": []
  }
 ],
 "metadata": {
  "kernelspec": {
   "display_name": "Julia 0.4.5",
   "language": "julia",
   "name": "julia-0.4"
  },
  "language_info": {
   "file_extension": ".jl",
   "mimetype": "application/julia",
   "name": "julia",
   "version": "0.4.5"
  }
 },
 "nbformat": 4,
 "nbformat_minor": 0
}
