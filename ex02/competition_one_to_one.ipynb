{
 "cells": [
  {
   "cell_type": "code",
   "execution_count": 1,
   "metadata": {
    "collapsed": true
   },
   "outputs": [],
   "source": [
    "using Matching"
   ]
  },
  {
   "cell_type": "code",
   "execution_count": 2,
   "metadata": {
    "collapsed": false,
    "scrolled": true
   },
   "outputs": [],
   "source": [
    "module EikiTakigawa\n",
    "include(\"EikiTakigawa/DA_1to1.jl\")\n",
    "deferred_acceptance = Match\n",
    "end\n",
    "\n",
    "module IoriS\n",
    "include(\"IoriS/deferred_acceptance.jl\")\n",
    "deferred_acceptance = deferred_acceptance\n",
    "end\n",
    "\n",
    "module keiikegami\n",
    "include(\"keiikegami/ikegamida.jl\")\n",
    "deferred_acceptance = ikegamida\n",
    "end\n",
    "\n",
    "module M_okb\n",
    "include(\"M_okb/one-to-one.jl\")\n",
    "deferred_acceptance = DA_algo\n",
    "end\n",
    "\n",
    "module myuuuuun\n",
    "include(\"myuuuuun/matching.jl\")\n",
    "deferred_acceptance = Matching.gale_shapley_T\n",
    "end\n",
    "\n",
    "module NlGG\n",
    "include(\"NlGG/deferred_acceptance.jl\")\n",
    "deferred_acceptance = deferred_acceptance\n",
    "end\n",
    "\n",
    "module nswa17\n",
    "include(\"nswa17/da.jl\")\n",
    "deferred_acceptance = DA.call_match\n",
    "end\n",
    "\n",
    "module oyamad\n",
    "deferred_acceptance = Main.Matching.deferred_acceptance\n",
    "end\n",
    "\n",
    "module R_Tsushima\n",
    "include(\"R_Tsushima/deffered_acceptance.jl\")\n",
    "deferred_acceptance = def_acc\n",
    "end\n",
    "\n",
    "module oyataku1\n",
    "include(\"oyataku1/deferred_acceptance.jl\")\n",
    "deferred_acceptance = deferred_acceptance\n",
    "end\n",
    "\n",
    "module SUZUKITAISHI\n",
    "include(\"SUZUKITAISHI/my_Gale_Shap.jl\")\n",
    "deferred_acceptance = my_Gale_Shap\n",
    "end\n",
    "\n",
    "module taneaki\n",
    "include(\"taneaki/deferred_acceptance.jl\")\n",
    "deferred_acceptance = deferred_acceptance\n",
    "end\n",
    "\n",
    "module tsuyoshi\n",
    "include(\"tsuyoshi/deferred_acceptance.jl\")\n",
    "deferred_acceptance = deferred_acceptance\n",
    "end;"
   ]
  },
  {
   "cell_type": "code",
   "execution_count": 3,
   "metadata": {
    "collapsed": true
   },
   "outputs": [],
   "source": [
    "modules = [\n",
    "    EikiTakigawa,\n",
    "    IoriS,\n",
    "    keiikegami,\n",
    "    M_okb,\n",
    "    myuuuuun,\n",
    "    NlGG,\n",
    "    nswa17,\n",
    "    oyamad,\n",
    "    R_Tsushima,\n",
    "    SUZUKITAISHI,\n",
    "    taneaki,\n",
    "    tsuyoshi,\n",
    "];"
   ]
  },
  {
   "cell_type": "code",
   "execution_count": 4,
   "metadata": {
    "collapsed": false
   },
   "outputs": [
    {
     "name": "stdout",
     "output_type": "stream",
     "text": [
      "EikiTakigawa\n",
      "  0.106061 seconds (72.63 k allocations: 3.532 MB, 5.97% gc time)\n",
      "  0.000099 seconds (207 allocations: 29.078 KB)\n",
      "  0.000051 seconds (207 allocations: 29.078 KB)\n",
      "  OK\n",
      "IoriS\n",
      "  0.023346 seconds (10.16 k allocations: 487.900 KB)\n",
      "  0.000020 seconds (132 allocations: 11.422 KB)\n",
      "  0.000013 seconds (132 allocations: 11.422 KB)\n",
      "  OK\n",
      "keiikegami\n",
      "  0.107111 seconds (75.78 k allocations: 3.639 MB)\n",
      "  0.000448 seconds (1.83 k allocations: 230.500 KB)\n",
      "  0.000440 seconds (1.83 k allocations: 230.500 KB)\n",
      "  OK\n",
      "M_okb\n",
      "  0.341093 seconds (297.64 k allocations: 13.702 MB)\n",
      "  0.000441 seconds (877 allocations: 431.281 KB)\n",
      "  0.000497 seconds (877 allocations: 431.281 KB)\n",
      "  OK\n",
      "myuuuuun\n",
      "  0.604522 seconds (579.29 k allocations: 26.004 MB, 2.58% gc time)\n",
      "  0.000213 seconds (398 allocations: 28.969 KB)\n",
      "  0.000193 seconds (398 allocations: 28.969 KB)\n",
      "  OK\n",
      "NlGG\n",
      "  0.086360 seconds (55.49 k allocations: 2.893 MB)\n",
      "  0.000363 seconds (663 allocations: 298.578 KB)\n",
      "  0.000354 seconds (663 allocations: 298.578 KB)\n",
      "  OK\n",
      "nswa17\n",
      "  0.103620 seconds (94.97 k allocations: 4.399 MB)\n",
      "  0.000010 seconds (25 allocations: 2.281 KB)\n",
      "  0.000006 seconds (25 allocations: 2.281 KB)\n",
      "  OK\n",
      "oyamad\n",
      "  0.000015 seconds (15 allocations: 5.500 KB)\n",
      "  0.000008 seconds (13 allocations: 5.438 KB)\n",
      "  0.000008 seconds (13 allocations: 5.438 KB)\n",
      "  OK\n",
      "R_Tsushima\n",
      "  0.058358 seconds (21.42 k allocations: 987.640 KB)\n",
      "  0.000009 seconds (124 allocations: 10.734 KB)\n",
      "  0.000007 seconds (124 allocations: 10.734 KB)\n",
      "  OK\n",
      "SUZUKITAISHI\n",
      "  0.023525 seconds (10.08 k allocations: 483.159 KB)\n",
      "  0.000014 seconds (169 allocations: 13.984 KB)\n",
      "  0.000012 seconds (169 allocations: 13.984 KB)\n",
      "  OK\n",
      "taneaki\n",
      "  0.068400 seconds (51.80 k allocations: 2.955 MB)\n",
      "  0.000810 seconds (1.29 k allocations: 578.781 KB)\n",
      "  0.000928 seconds (1.29 k allocations: 578.781 KB)\n",
      "  OK\n",
      "tsuyoshi\n",
      "  0.082499 seconds (59.63 k allocations: 3.081 MB)\n",
      "  0.000701 seconds (1.06 k allocations: 444.625 KB)\n",
      "  0.000767 seconds (1.06 k allocations: 444.625 KB)\n",
      "  OK\n"
     ]
    }
   ],
   "source": [
    "m, n = 10, 5\n",
    "srand(1234)\n",
    "m_prefs, f_prefs = random_prefs(m, n)\n",
    "\n",
    "prop_matches_oy, resp_matches_oy = oyamad.deferred_acceptance(m_prefs, f_prefs)\n",
    "\n",
    "for m in modules\n",
    "    println(m)\n",
    "    @time prop_matches, resp_matches = getfield(m, :deferred_acceptance)(m_prefs, f_prefs)\n",
    "    @time getfield(m, :deferred_acceptance)(m_prefs, f_prefs)\n",
    "    @time getfield(m, :deferred_acceptance)(m_prefs, f_prefs)\n",
    "    if prop_matches == prop_matches_oy && resp_matches == resp_matches_oy\n",
    "        println(\"  OK\")\n",
    "    else\n",
    "        println(\"  returned: $prop_matches; expected: $prop_matches_oy\")\n",
    "        println(\"  returned: $resp_matches; expected: $resp_matches_oy\")\n",
    "    end\n",
    "end"
   ]
  },
  {
   "cell_type": "code",
   "execution_count": 5,
   "metadata": {
    "collapsed": false,
    "scrolled": true
   },
   "outputs": [
    {
     "data": {
      "text/plain": [
       "performance (generic function with 3 methods)"
      ]
     },
     "execution_count": 5,
     "metadata": {},
     "output_type": "execute_result"
    }
   ],
   "source": [
    "function performance(m::Int, n::Int, rng::AbstractRNG)\n",
    "    m_prefs, f_prefs = random_prefs(rng, m, n)\n",
    "    \n",
    "    times = Array(Float64, length(modules))\n",
    "    allocs = Array(Int, length(modules))\n",
    "    \n",
    "    for (i, m) in enumerate(modules)\n",
    "        getfield(m, :deferred_acceptance)(m_prefs, f_prefs)\n",
    "        getfield(m, :deferred_acceptance)(m_prefs, f_prefs)\n",
    "        _, time, alloc, _ = @timed getfield(m, :deferred_acceptance)(m_prefs, f_prefs)\n",
    "        times[i] = time\n",
    "        allocs[i] = alloc\n",
    "    end\n",
    "    \n",
    "    indices = sortperm(times)\n",
    "    for i in indices\n",
    "        println(modules[i])\n",
    "        @printf(\"  %0.9f seconds\\n\", times[i])\n",
    "    end\n",
    "end\n",
    "\n",
    "performance(m::Int, n::Int, seed::Int) = performance(m, n, MersenneTwister(seed))\n",
    "performance(m::Int, n::Int) = performance(m, n, Base.GLOBAL_RNG)"
   ]
  },
  {
   "cell_type": "code",
   "execution_count": 6,
   "metadata": {
    "collapsed": false
   },
   "outputs": [
    {
     "data": {
      "text/plain": [
       "1234"
      ]
     },
     "execution_count": 6,
     "metadata": {},
     "output_type": "execute_result"
    }
   ],
   "source": [
    "seed = 1234"
   ]
  },
  {
   "cell_type": "code",
   "execution_count": 7,
   "metadata": {
    "collapsed": false,
    "scrolled": true
   },
   "outputs": [
    {
     "name": "stdout",
     "output_type": "stream",
     "text": [
      "oyamad\n",
      "  0.000221331 seconds\n",
      "nswa17\n",
      "  0.000488479 seconds\n",
      "IoriS\n",
      "  0.000602992 seconds\n",
      "R_Tsushima\n",
      "  0.000658195 seconds\n",
      "SUZUKITAISHI\n",
      "  0.001211153 seconds\n",
      "EikiTakigawa\n",
      "  0.008241735 seconds\n",
      "M_okb\n",
      "  0.014914887 seconds\n",
      "NlGG\n",
      "  0.017766797 seconds\n",
      "tsuyoshi\n",
      "  0.020691306 seconds\n",
      "taneaki\n",
      "  0.024612965 seconds\n",
      "myuuuuun\n",
      "  0.027506637 seconds\n",
      "keiikegami\n",
      "  0.057986320 seconds\n"
     ]
    }
   ],
   "source": [
    "performance(100, 100, seed)"
   ]
  },
  {
   "cell_type": "code",
   "execution_count": 8,
   "metadata": {
    "collapsed": false
   },
   "outputs": [
    {
     "name": "stdout",
     "output_type": "stream",
     "text": [
      "oyamad\n",
      "  0.000564630 seconds\n",
      "nswa17\n",
      "  0.000648619 seconds\n",
      "R_Tsushima\n",
      "  0.002858226 seconds\n",
      "IoriS\n",
      "  0.004261418 seconds\n",
      "SUZUKITAISHI\n",
      "  0.005168687 seconds\n",
      "EikiTakigawa\n",
      "  0.016816890 seconds\n",
      "NlGG\n",
      "  0.030689119 seconds\n",
      "M_okb\n",
      "  0.043094320 seconds\n",
      "taneaki\n",
      "  0.055162791 seconds\n",
      "tsuyoshi\n",
      "  0.056099384 seconds\n",
      "myuuuuun\n",
      "  0.120794086 seconds\n",
      "keiikegami\n",
      "  0.368281538 seconds\n"
     ]
    }
   ],
   "source": [
    "performance(200, 200, seed)"
   ]
  },
  {
   "cell_type": "code",
   "execution_count": 9,
   "metadata": {
    "collapsed": false
   },
   "outputs": [
    {
     "name": "stdout",
     "output_type": "stream",
     "text": [
      "nswa17\n",
      "  0.003090224 seconds\n",
      "oyamad\n",
      "  0.005309202 seconds\n",
      "IoriS\n",
      "  0.044104833 seconds\n",
      "R_Tsushima\n",
      "  0.046730926 seconds\n",
      "EikiTakigawa\n",
      "  0.072311565 seconds\n",
      "SUZUKITAISHI\n",
      "  0.106667313 seconds\n",
      "NlGG\n",
      "  0.170870000 seconds\n",
      "M_okb\n",
      "  0.178814788 seconds\n",
      "taneaki\n",
      "  0.230815609 seconds\n",
      "tsuyoshi\n",
      "  0.277304893 seconds\n",
      "myuuuuun\n",
      "  0.828617824 seconds\n",
      "keiikegami\n",
      "  1.841906706 seconds\n"
     ]
    }
   ],
   "source": [
    "performance(500, 500, seed)"
   ]
  },
  {
   "cell_type": "code",
   "execution_count": 10,
   "metadata": {
    "collapsed": false,
    "scrolled": true
   },
   "outputs": [
    {
     "name": "stdout",
     "output_type": "stream",
     "text": [
      "oyamad\n",
      "  0.020284146 seconds\n",
      "nswa17\n",
      "  0.023437959 seconds\n",
      "IoriS\n",
      "  0.272567810 seconds\n",
      "R_Tsushima\n",
      "  0.288714143 seconds\n",
      "EikiTakigawa\n",
      "  0.487449982 seconds\n",
      "SUZUKITAISHI\n",
      "  0.562590783 seconds\n",
      "M_okb\n",
      "  0.821492521 seconds\n",
      "NlGG\n",
      "  0.940333546 seconds\n",
      "taneaki\n",
      "  1.027299721 seconds\n",
      "tsuyoshi\n",
      "  1.436587934 seconds\n",
      "myuuuuun\n",
      "  3.959924946 seconds\n",
      "keiikegami\n",
      "  18.887157292 seconds\n"
     ]
    }
   ],
   "source": [
    "performance(1000, 1000, seed)"
   ]
  },
  {
   "cell_type": "code",
   "execution_count": null,
   "metadata": {
    "collapsed": true
   },
   "outputs": [],
   "source": []
  }
 ],
 "metadata": {
  "kernelspec": {
   "display_name": "Julia 0.4.5",
   "language": "julia",
   "name": "julia-0.4"
  },
  "language_info": {
   "file_extension": ".jl",
   "mimetype": "application/julia",
   "name": "julia",
   "version": "0.4.5"
  }
 },
 "nbformat": 4,
 "nbformat_minor": 0
}
